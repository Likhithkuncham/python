{
  "cells": [
    {
      "cell_type": "markdown",
      "metadata": {
        "id": "view-in-github",
        "colab_type": "text"
      },
      "source": [
        "<a href=\"https://colab.research.google.com/github/Likhithkuncham/python/blob/main/String_Assessment.ipynb\" target=\"_parent\"><img src=\"https://colab.research.google.com/assets/colab-badge.svg\" alt=\"Open In Colab\"/></a>"
      ]
    },
    {
      "cell_type": "markdown",
      "metadata": {
        "id": "eh5Ph74_HqpD"
      },
      "source": [
        "## how would you confimm that two strings have the same identity?"
      ]
    },
    {
      "cell_type": "code",
      "execution_count": 1,
      "metadata": {
        "colab": {
          "base_uri": "https://localhost:8080/"
        },
        "id": "oERbt__VktUg",
        "outputId": "098dcbbf-b782-45c8-bc75-7b437cc5eaa4"
      },
      "outputs": [
        {
          "output_type": "stream",
          "name": "stdout",
          "text": [
            "Likhith\n",
            "Likhith\n",
            "They have same identity\n"
          ]
        }
      ],
      "source": [
        "x=input()\n",
        "y=input()\n",
        "if x == y:\n",
        "  print(\"They have same identity\")\n",
        "else:\n",
        "  print(\"They dont have same identity\")"
      ]
    },
    {
      "cell_type": "code",
      "execution_count": 2,
      "metadata": {
        "id": "fAJ6UCYeRkRF",
        "colab": {
          "base_uri": "https://localhost:8080/"
        },
        "outputId": "897c147e-6047-40c9-8832-77b5596440f6"
      },
      "outputs": [
        {
          "output_type": "stream",
          "name": "stdout",
          "text": [
            "likky\n",
            "Likky\n",
            "strings do not have same identity\n"
          ]
        }
      ],
      "source": [
        "kl1=input()\n",
        "kl2=input()\n",
        "if kl1 == kl2:\n",
        "  print(\"strings are of same identity\")\n",
        "else:\n",
        "  print(\"strings do not have same identity\")"
      ]
    },
    {
      "cell_type": "markdown",
      "metadata": {
        "id": "xSfXJRgVHKOB"
      },
      "source": [
        "How to find the length and index of the string?"
      ]
    },
    {
      "cell_type": "code",
      "execution_count": 4,
      "metadata": {
        "colab": {
          "base_uri": "https://localhost:8080/"
        },
        "id": "cuEJ9hZ_S4df",
        "outputId": "20d4e3ec-36e3-4e57-c011-e4d48d429031"
      },
      "outputs": [
        {
          "output_type": "stream",
          "name": "stdout",
          "text": [
            "Length of the string is :  7\n",
            "index value is:  5\n"
          ]
        }
      ],
      "source": [
        "k= \"Likhith\"\n",
        "length= len(k)\n",
        "print(\"Length of the string is : \", length)\n",
        "x='t'\n",
        "y=k.find(x)\n",
        "print(\"index value is: \", y)"
      ]
    },
    {
      "cell_type": "markdown",
      "metadata": {
        "id": "EGK-LzalIO_i"
      },
      "source": [
        "## how to check a string contain a specific substring"
      ]
    },
    {
      "cell_type": "code",
      "execution_count": 5,
      "metadata": {
        "colab": {
          "base_uri": "https://localhost:8080/"
        },
        "id": "g1HYIC9gJ7Vi",
        "outputId": "2f9115ea-76dc-4eb3-e95f-9a55d88ee692"
      },
      "outputs": [
        {
          "output_type": "stream",
          "name": "stdout",
          "text": [
            "The string contains the specific string\n"
          ]
        }
      ],
      "source": [
        "s=\"Likhith\"\n",
        "sub_str=\"khi\"\n",
        "if sub_str in s:\n",
        "  print(\"The string contains the specific string\")\n",
        "else:\n",
        "  print(\"The string does not contain any specific string\")"
      ]
    },
    {
      "cell_type": "markdown",
      "metadata": {
        "id": "LmY6RXjoJF9h"
      },
      "source": [
        "## how to a take a string from backward with two step difference?\n"
      ]
    },
    {
      "cell_type": "code",
      "execution_count": 6,
      "metadata": {
        "colab": {
          "base_uri": "https://localhost:8080/"
        },
        "id": "_C_pqVqBJ8AA",
        "outputId": "429f2839-a162-45e0-ae43-68691481f938"
      },
      "outputs": [
        {
          "output_type": "stream",
          "name": "stdout",
          "text": [
            "original string is: Cmrcet\n",
            "String from backward with two step difference: tcm\n"
          ]
        }
      ],
      "source": [
        "k=\"Cmrcet\"\n",
        "l=k[::-2]\n",
        "print(\"original string is:\",k)\n",
        "print(\"String from backward with two step difference:\",l)"
      ]
    },
    {
      "cell_type": "markdown",
      "metadata": {
        "id": "7eg6JfyuJr_2"
      },
      "source": [
        "## how to find the index of the last element"
      ]
    },
    {
      "cell_type": "code",
      "execution_count": 7,
      "metadata": {
        "colab": {
          "base_uri": "https://localhost:8080/"
        },
        "id": "T84ODp77J8zR",
        "outputId": "ae93866d-fc1f-44a0-ab11-9b53b2a5382d"
      },
      "outputs": [
        {
          "output_type": "stream",
          "name": "stdout",
          "text": [
            "Index of last element is 6\n"
          ]
        }
      ],
      "source": [
        "k=\"Likky\"\n",
        "print(\"Index of last element is\", len(s)-1 )"
      ]
    },
    {
      "cell_type": "markdown",
      "metadata": {
        "id": "FTdxvLc1J0lv"
      },
      "source": [
        "## Write 2 ways to concatinate the string"
      ]
    },
    {
      "cell_type": "code",
      "execution_count": 9,
      "metadata": {
        "id": "j8P9ODeTJ9Zz",
        "colab": {
          "base_uri": "https://localhost:8080/"
        },
        "outputId": "743cc9cf-608c-40ca-eccd-34713a9c088a"
      },
      "outputs": [
        {
          "output_type": "stream",
          "name": "stdout",
          "text": [
            "Hello cmr\n",
            "Hello cmr\n"
          ]
        }
      ],
      "source": [
        "k=\"Hello\"\n",
        "l=\"cmr\"\n",
        "print(k+\" \"+l)\n",
        "c=\" \".join([k,l])\n",
        "print(c)\n"
      ]
    }
  ],
  "metadata": {
    "colab": {
      "provenance": [],
      "include_colab_link": true
    },
    "kernelspec": {
      "display_name": "Python 3",
      "name": "python3"
    },
    "language_info": {
      "name": "python"
    }
  },
  "nbformat": 4,
  "nbformat_minor": 0
}