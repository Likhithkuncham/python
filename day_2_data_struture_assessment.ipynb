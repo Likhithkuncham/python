{
  "nbformat": 4,
  "nbformat_minor": 0,
  "metadata": {
    "colab": {
      "provenance": [],
      "authorship_tag": "ABX9TyOtN9Nnrr5zm58KIAphg3I8",
      "include_colab_link": true
    },
    "kernelspec": {
      "name": "python3",
      "display_name": "Python 3"
    },
    "language_info": {
      "name": "python"
    }
  },
  "cells": [
    {
      "cell_type": "markdown",
      "metadata": {
        "id": "view-in-github",
        "colab_type": "text"
      },
      "source": [
        "<a href=\"https://colab.research.google.com/github/Likhithkuncham/python/blob/main/day_2_data_struture_assessment.ipynb\" target=\"_parent\"><img src=\"https://colab.research.google.com/assets/colab-badge.svg\" alt=\"Open In Colab\"/></a>"
      ]
    },
    {
      "cell_type": "markdown",
      "source": [
        "# **1.Difference between the list and tuple?**"
      ],
      "metadata": {
        "id": "BjEzHx_Wy2Lx"
      }
    },
    {
      "cell_type": "markdown",
      "source": [
        "\n",
        "\n",
        "List\n",
        "\n",
        "\n",
        "*  Lists are mutable.\n",
        "\n",
        "*  Lists consume more memory.\n",
        "*     Lists are represented by [ ] brackets.\n",
        "\n",
        "\n",
        "Tuple\n",
        "\n",
        "\n",
        "\n",
        "\n",
        "*   Tuples are immutable.\n",
        "*    Tuple consumes less memory as compared to the list.\n",
        "\n",
        "\n",
        "*   Tuples are represented by ( ) brackets.\n",
        "\n",
        "\n",
        "\n",
        "    \n",
        "   \n",
        "   \n",
        "\n"
      ],
      "metadata": {
        "id": "16adCYamy9Ar"
      }
    },
    {
      "cell_type": "markdown",
      "source": [
        "# **2.How list is different from an array**"
      ],
      "metadata": {
        "id": "PETBLAf-zNJH"
      }
    },
    {
      "cell_type": "markdown",
      "source": [
        "\n",
        "\n",
        "    \n",
        "    \n",
        "   \n",
        "\n",
        "\n",
        "\n",
        "*  List can consist of elements belonging to different datatypes whereas array Only consists of elements belonging to the same datatype.\n",
        "*  List preferred for a shorter sequence of data items whereas array preferred for a longer sequence of data items.\n",
        "\n",
        "*  List cannot directly handle arithmetic operations whereas array can.  \n",
        "\n",
        "\n",
        "\n"
      ],
      "metadata": {
        "id": "IVckFFyGzRoh"
      }
    },
    {
      "cell_type": "markdown",
      "source": [
        "## 3. Use the python list append(),copy(), clear, count, extends(), index(), insert(), pop(), reverse(), sort(), min(), max(),and sum()\n"
      ],
      "metadata": {
        "id": "mPvMjm6azj_N"
      }
    },
    {
      "cell_type": "code",
      "source": [
        "#append\n",
        "k=[]\n",
        "k.append(10)\n",
        "k.append(2.2)\n",
        "k.append(\"Hi cmrcet\")\n",
        "print(k)"
      ],
      "metadata": {
        "colab": {
          "base_uri": "https://localhost:8080/"
        },
        "id": "FYCxIXNA0NHU",
        "outputId": "cc66cfd5-b96e-40ee-b37e-5e150b015036"
      },
      "execution_count": 1,
      "outputs": [
        {
          "output_type": "stream",
          "name": "stdout",
          "text": [
            "[10, 2.2, 'Hi cmrcet']\n"
          ]
        }
      ]
    },
    {
      "cell_type": "code",
      "source": [
        "#copy\n",
        "k=[1,2,3,4,5]\n",
        "l=k.copy()\n",
        "print(l)"
      ],
      "metadata": {
        "colab": {
          "base_uri": "https://localhost:8080/"
        },
        "id": "ERNmwko90Vab",
        "outputId": "ac9b4465-6acc-4e50-fecc-5491eb8012fb"
      },
      "execution_count": 2,
      "outputs": [
        {
          "output_type": "stream",
          "name": "stdout",
          "text": [
            "[1, 2, 3, 4, 5]\n"
          ]
        }
      ]
    },
    {
      "cell_type": "code",
      "source": [
        "#clear\n",
        "k=[10,20,30,40]\n",
        "k.clear()\n",
        "print(k)"
      ],
      "metadata": {
        "colab": {
          "base_uri": "https://localhost:8080/"
        },
        "id": "SSoXzifa0hDe",
        "outputId": "d1bfd852-eec6-4f89-b196-8a1d21dece22"
      },
      "execution_count": 4,
      "outputs": [
        {
          "output_type": "stream",
          "name": "stdout",
          "text": [
            "[]\n"
          ]
        }
      ]
    },
    {
      "cell_type": "code",
      "source": [
        "#count\n",
        "k=[1,2,2,2,3,4,5]\n",
        "k.count(3)"
      ],
      "metadata": {
        "colab": {
          "base_uri": "https://localhost:8080/"
        },
        "id": "IZ8Gswlr0s2J",
        "outputId": "4cf05d59-d3df-4915-ad81-a3a8e91e5e7f"
      },
      "execution_count": 5,
      "outputs": [
        {
          "output_type": "execute_result",
          "data": {
            "text/plain": [
              "1"
            ]
          },
          "metadata": {},
          "execution_count": 5
        }
      ]
    },
    {
      "cell_type": "code",
      "source": [
        "#extends\n",
        "k=[1,2,3,4]\n",
        "l=[5,6,7,8]\n",
        "k.extend(l)\n",
        "print(k)"
      ],
      "metadata": {
        "colab": {
          "base_uri": "https://localhost:8080/"
        },
        "id": "e8moO5Cc2kbN",
        "outputId": "b0934389-8e1d-4ff0-f779-b66b30c94e65"
      },
      "execution_count": 6,
      "outputs": [
        {
          "output_type": "stream",
          "name": "stdout",
          "text": [
            "[1, 2, 3, 4, 5, 6, 7, 8]\n"
          ]
        }
      ]
    },
    {
      "cell_type": "code",
      "source": [
        "#index\n",
        "k=[1,2,3,4,5]\n",
        "k.index(3)"
      ],
      "metadata": {
        "colab": {
          "base_uri": "https://localhost:8080/"
        },
        "id": "e944ecU3224H",
        "outputId": "b41ee4a8-ee9b-4838-80b2-6421ee5630c9"
      },
      "execution_count": 7,
      "outputs": [
        {
          "output_type": "execute_result",
          "data": {
            "text/plain": [
              "2"
            ]
          },
          "metadata": {},
          "execution_count": 7
        }
      ]
    },
    {
      "cell_type": "code",
      "source": [
        "#insert\n",
        "k=[11,12,13,14]\n",
        "k.insert(14,15)\n",
        "print(k)"
      ],
      "metadata": {
        "colab": {
          "base_uri": "https://localhost:8080/"
        },
        "id": "0-tuTOf92-TD",
        "outputId": "c4bd1937-60dd-440f-a232-b55aa0997542"
      },
      "execution_count": 12,
      "outputs": [
        {
          "output_type": "stream",
          "name": "stdout",
          "text": [
            "[11, 12, 13, 14, 15]\n"
          ]
        }
      ]
    },
    {
      "cell_type": "code",
      "source": [
        "#pop\n",
        "k=[1,2,3,4]\n",
        "l=k.pop(2)\n",
        "print(\"poped element is\",l)"
      ],
      "metadata": {
        "colab": {
          "base_uri": "https://localhost:8080/"
        },
        "id": "vjnEeOsG3xLC",
        "outputId": "61bc53d1-e623-46a8-ff13-981aae8e37af"
      },
      "execution_count": 15,
      "outputs": [
        {
          "output_type": "stream",
          "name": "stdout",
          "text": [
            "poped element is 3\n"
          ]
        }
      ]
    },
    {
      "cell_type": "code",
      "source": [
        "#reverse\n",
        "k=[1,2,3,4,5]\n",
        "k.reverse()\n",
        "print(k)"
      ],
      "metadata": {
        "colab": {
          "base_uri": "https://localhost:8080/"
        },
        "id": "Lxzvv7A74JEQ",
        "outputId": "30f58ee1-8192-4e10-ecb0-853cafe38098"
      },
      "execution_count": 16,
      "outputs": [
        {
          "output_type": "stream",
          "name": "stdout",
          "text": [
            "[5, 4, 3, 2, 1]\n"
          ]
        }
      ]
    },
    {
      "cell_type": "code",
      "source": [
        "#sort\n",
        "k=[3,1,2,5,4]\n",
        "k.sort()\n",
        "print(k)"
      ],
      "metadata": {
        "colab": {
          "base_uri": "https://localhost:8080/"
        },
        "id": "tfuz7VSt4Tb3",
        "outputId": "cbfd7c6c-31ec-4ef1-bdfe-b3f1298ca298"
      },
      "execution_count": 18,
      "outputs": [
        {
          "output_type": "stream",
          "name": "stdout",
          "text": [
            "[1, 2, 3, 4, 5]\n"
          ]
        }
      ]
    },
    {
      "cell_type": "code",
      "source": [
        "#min and max\n",
        "k=[1,2,3,4,5]\n",
        "a=min(k)\n",
        "b=max(k)\n",
        "print(\"minimum value is \",a)\n",
        "print(\"maximum value is \",b)"
      ],
      "metadata": {
        "colab": {
          "base_uri": "https://localhost:8080/"
        },
        "id": "WTs6o5uT4gtA",
        "outputId": "c05c92ec-db83-4d38-a27c-17762c1ed44d"
      },
      "execution_count": 20,
      "outputs": [
        {
          "output_type": "stream",
          "name": "stdout",
          "text": [
            "minimum value is  1\n",
            "maximum value is  5\n"
          ]
        }
      ]
    },
    {
      "cell_type": "code",
      "source": [
        "#sum\n",
        "l=[1,2,3]\n",
        "k=sum(l)\n",
        "print(k)"
      ],
      "metadata": {
        "colab": {
          "base_uri": "https://localhost:8080/"
        },
        "id": "IshoDxak4ucP",
        "outputId": "541c8da3-abef-4c51-b4e8-bd61ab24d9cf"
      },
      "execution_count": 21,
      "outputs": [
        {
          "output_type": "stream",
          "name": "stdout",
          "text": [
            "6\n"
          ]
        }
      ]
    },
    {
      "cell_type": "markdown",
      "source": [
        "# **4. How would you divide the list into two parts?**"
      ],
      "metadata": {
        "id": "bAehabO441Sf"
      }
    },
    {
      "cell_type": "code",
      "source": [
        "k=[1,2,3,4]\n",
        "x=len(k)//2\n",
        "c=k[x:]\n",
        "d=k[:x]\n",
        "print(c)\n",
        "print(d)"
      ],
      "metadata": {
        "colab": {
          "base_uri": "https://localhost:8080/"
        },
        "id": "-u2_i55P5EQ8",
        "outputId": "62e22e2e-be61-4ce5-f44b-e20c7f80a942"
      },
      "execution_count": 22,
      "outputs": [
        {
          "output_type": "stream",
          "name": "stdout",
          "text": [
            "[3, 4]\n",
            "[1, 2]\n"
          ]
        }
      ]
    },
    {
      "cell_type": "markdown",
      "source": [
        "# **5. how to filter the multiple of 3 from a given list and them remove the odd number from the new filtered list.**\n",
        "\n",
        "\n",
        "\n",
        "Eg A = [1,2,3,4,5,6,7,8,9,21,23,24] Filter_lsit = [3,6,9,21,24,27] output_list = [6,24]"
      ],
      "metadata": {
        "id": "E3jLts6Y5ZyX"
      }
    },
    {
      "cell_type": "code",
      "source": [
        "k=[1,2,3,4,5,6,7,8,9,21,23,24,25,27]\n",
        "x=[j for j in k if j%3==0]\n",
        "y=[j for j in x if j%2==0]\n",
        "print(x)\n",
        "print(y)"
      ],
      "metadata": {
        "colab": {
          "base_uri": "https://localhost:8080/"
        },
        "id": "OhhRqiO45-l4",
        "outputId": "dd2b6dd0-d536-476c-e40f-6c024a617b0e"
      },
      "execution_count": 23,
      "outputs": [
        {
          "output_type": "stream",
          "name": "stdout",
          "text": [
            "[3, 6, 9, 21, 24, 27]\n",
            "[6, 24]\n"
          ]
        }
      ]
    },
    {
      "cell_type": "markdown",
      "source": [
        "# **6. How you can access keys and values simultaneously and update its value**"
      ],
      "metadata": {
        "id": "8_a-1WdI6Mrv"
      }
    },
    {
      "cell_type": "code",
      "source": [
        "l={'x':1,'y':2}\n",
        "for i,j in l.items():\n",
        "  print(i,j)\n",
        "c=str(input(\"enter key\"))\n",
        "d=int(input(\"enter value\"))\n",
        "if c in l:\n",
        "  l[c]=d\n",
        "  print(\"key founded\")\n",
        "else:\n",
        "  print(\"key not found\")\n",
        "print(l)"
      ],
      "metadata": {
        "colab": {
          "base_uri": "https://localhost:8080/"
        },
        "id": "FHrwU8ro6PnJ",
        "outputId": "e696f69b-4985-498d-8216-b1c7e8787b93"
      },
      "execution_count": 26,
      "outputs": [
        {
          "output_type": "stream",
          "name": "stdout",
          "text": [
            "x 1\n",
            "y 2\n",
            "enter keyy\n",
            "enter value2\n",
            "key founded\n",
            "{'x': 1, 'y': 2}\n"
          ]
        }
      ]
    },
    {
      "cell_type": "markdown",
      "source": [
        "# **7. Write python program to join, merge, concatente the two dictionaries.**"
      ],
      "metadata": {
        "id": "W3-hLtD76s1m"
      }
    },
    {
      "cell_type": "code",
      "source": [
        "#join\n",
        "k1={'x':1,'y':2}\n",
        "k2={'z':2,'k':3}\n",
        "k1.update(k2)\n",
        "print(k1)"
      ],
      "metadata": {
        "colab": {
          "base_uri": "https://localhost:8080/"
        },
        "id": "0ctALrkt6u0m",
        "outputId": "968d86bf-0963-4726-ce7b-f15014845f08"
      },
      "execution_count": 27,
      "outputs": [
        {
          "output_type": "stream",
          "name": "stdout",
          "text": [
            "{'x': 1, 'y': 2, 'z': 2, 'k': 3}\n"
          ]
        }
      ]
    },
    {
      "cell_type": "code",
      "source": [
        "#merge\n",
        "k1={'x':1,'y':2}\n",
        "k2={'z':3,'k':3}\n",
        "k=dict(k1,**k2)\n",
        "print(k)"
      ],
      "metadata": {
        "colab": {
          "base_uri": "https://localhost:8080/"
        },
        "id": "zho-Irow6_Hr",
        "outputId": "bec8ee06-a2b8-4bf2-8898-b71147ccff3c"
      },
      "execution_count": 28,
      "outputs": [
        {
          "output_type": "stream",
          "name": "stdout",
          "text": [
            "{'x': 1, 'y': 2, 'z': 3, 'k': 3}\n"
          ]
        }
      ]
    },
    {
      "cell_type": "code",
      "source": [
        "#concatente\n",
        "k1={'x':1,'l':2}\n",
        "k2={'l':3,'k':3}\n",
        "k={**k1,**k2}\n",
        "print(k)"
      ],
      "metadata": {
        "colab": {
          "base_uri": "https://localhost:8080/"
        },
        "id": "qhPXPIBy7MC-",
        "outputId": "ea58dda4-1a35-45fd-e892-b4a4d29e5dde"
      },
      "execution_count": 29,
      "outputs": [
        {
          "output_type": "stream",
          "name": "stdout",
          "text": [
            "{'x': 1, 'l': 3, 'k': 3}\n"
          ]
        }
      ]
    },
    {
      "cell_type": "markdown",
      "source": [
        "# 8. How would you check a specific keys from the dictionary?"
      ],
      "metadata": {
        "id": "8HRYgMk57nzb"
      }
    },
    {
      "cell_type": "code",
      "source": [
        "k={'l':1,'i':2}\n",
        "x=str(input(\"enter value to check\"))\n",
        "if x in k:\n",
        "  print(\"value is there\")\n",
        "else:\n",
        "  print(\"value not there\")"
      ],
      "metadata": {
        "colab": {
          "base_uri": "https://localhost:8080/"
        },
        "id": "9HsDkWJ47gni",
        "outputId": "f537cbd9-df52-4285-d45d-b199b7d7cd60"
      },
      "execution_count": 31,
      "outputs": [
        {
          "output_type": "stream",
          "name": "stdout",
          "text": [
            "enter value to checki\n",
            "value is there\n"
          ]
        }
      ]
    },
    {
      "cell_type": "markdown",
      "source": [
        "# **9. write a python program to find the unique vowel present in the sentence.**"
      ],
      "metadata": {
        "id": "wMerB9698Cwt"
      }
    },
    {
      "cell_type": "code",
      "source": [
        "sentence= input(\"Enter a sentence\")\n",
        "k=set()\n",
        "vowels = \"aeiouAEIOU\"\n",
        "for i in sentence:\n",
        "    if i in vowels:\n",
        "        k.add(i)\n",
        "if k:\n",
        "    print(\"vowels in the sentence:\",list(k))\n",
        "else:\n",
        "    print(\"No vowels found in the sentence.\")"
      ],
      "metadata": {
        "colab": {
          "base_uri": "https://localhost:8080/"
        },
        "id": "ISx-nipN8H_N",
        "outputId": "d2fd67e6-b45c-4e91-9266-dae65e05eb93"
      },
      "execution_count": 32,
      "outputs": [
        {
          "output_type": "stream",
          "name": "stdout",
          "text": [
            "Enter a sentencelikhith\n",
            "vowels in the sentence: ['i']\n"
          ]
        }
      ]
    },
    {
      "cell_type": "markdown",
      "source": [
        "# **10. We know that tuple is immutable, do any thing and add element to the tuples.**"
      ],
      "metadata": {
        "id": "fsNOca2a8ZIn"
      }
    },
    {
      "cell_type": "code",
      "source": [
        "x1=(1,2)\n",
        "x2=(3,4)\n",
        "k=x1+x2\n",
        "print(k)"
      ],
      "metadata": {
        "colab": {
          "base_uri": "https://localhost:8080/"
        },
        "id": "54K-dOZE8a6J",
        "outputId": "95705a70-fe41-4b87-b734-2b9080d20cd8"
      },
      "execution_count": 33,
      "outputs": [
        {
          "output_type": "stream",
          "name": "stdout",
          "text": [
            "(1, 2, 3, 4)\n"
          ]
        }
      ]
    },
    {
      "cell_type": "markdown",
      "source": [
        "# **11. How would you sum the list of tuple and sum of tuple of list**\n",
        "\n",
        "list = [(1,3),(6,5),(7,4)] output= [4,11,11]\n",
        "\n",
        "tuple =([1,3],[6,5],[7,4]) output = (4,11,11)"
      ],
      "metadata": {
        "id": "92dZXQWi8mzG"
      }
    },
    {
      "cell_type": "code",
      "source": [
        "# List of tuples\n",
        "l_t = ([1, 3], [6, 5], [7, 4])\n",
        "b = tuple(sum(i) for i in l_t)\n",
        "print(b)\n",
        "\n",
        "# Tuple of lists\n",
        "t_l = [(1, 3), (6, 5), (7, 4)]\n",
        "c = [sum(j) for j in t_l]\n",
        "print(c)"
      ],
      "metadata": {
        "colab": {
          "base_uri": "https://localhost:8080/"
        },
        "id": "jD79cp9l83B-",
        "outputId": "61a05f5c-14e0-4e0e-dfb6-5b81101e3395"
      },
      "execution_count": 36,
      "outputs": [
        {
          "output_type": "stream",
          "name": "stdout",
          "text": [
            "(4, 11, 11)\n",
            "[4, 11, 11]\n"
          ]
        }
      ]
    },
    {
      "cell_type": "markdown",
      "source": [
        "# **12. FIND THE FREQUENCY OF THE KEYS IN THE GIVEN DICTIONARY.**"
      ],
      "metadata": {
        "id": "JdydiGWk9NUj"
      }
    },
    {
      "cell_type": "code",
      "source": [
        "k={'a':1,'b':2,'c':2}\n",
        "b={}\n",
        "for i in k.values():\n",
        "    if i in b:\n",
        "        b[i]+=1\n",
        "    else:\n",
        "         b[i]=1\n",
        "for j,h in b.items():\n",
        "    print(f\"The frequency of value {j} is: {h}\")"
      ],
      "metadata": {
        "colab": {
          "base_uri": "https://localhost:8080/"
        },
        "id": "gHguGZFi9R6w",
        "outputId": "824cdb77-8e49-4e3a-a5ab-62c108c78118"
      },
      "execution_count": 38,
      "outputs": [
        {
          "output_type": "stream",
          "name": "stdout",
          "text": [
            "The frequency of value 1 is: 1\n",
            "The frequency of value 2 is: 2\n"
          ]
        }
      ]
    }
  ]
}